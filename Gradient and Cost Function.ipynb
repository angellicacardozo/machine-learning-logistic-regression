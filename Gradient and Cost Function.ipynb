{
 "cells": [
  {
   "cell_type": "code",
   "execution_count": 352,
   "metadata": {},
   "outputs": [],
   "source": [
    "import numpy as np\n",
    "data = np.genfromtxt('ex2data1.txt', delimiter=',')"
   ]
  },
  {
   "cell_type": "code",
   "execution_count": 353,
   "metadata": {
    "collapsed": true
   },
   "outputs": [],
   "source": [
    "' Converts a continuous input into a value between zero and one '\n",
    "def sigmoid_function(z):  \n",
    "    return 1 / (1 + np.exp(-z))"
   ]
  },
  {
   "cell_type": "code",
   "execution_count": 354,
   "metadata": {},
   "outputs": [],
   "source": [
    "def gradient_function(theta, x, y):\n",
    "    \n",
    "    m     = len(x)\n",
    "    coffs = x.shape[1]\n",
    "    param = ((-1) * (theta)) * x.T\n",
    "    grad  = np.zeros(coffs)\n",
    "    \n",
    "    loss = ((1./m) * sigmoid_function(param)) - y\n",
    "    \n",
    "    for i in range(coffs):\n",
    "        grad[i] = loss.dot(x[:,i])\n",
    "    \n",
    "    return grad"
   ]
  },
  {
   "cell_type": "code",
   "execution_count": 355,
   "metadata": {},
   "outputs": [],
   "source": [
    "def cost_function(theta, x, y):  \n",
    "    \n",
    "    m = len(x)\n",
    "    \n",
    "    x = np.matrix(x)\n",
    "    y = np.matrix(y)\n",
    "    theta = np.matrix(theta)\n",
    "    \n",
    "    param = ((-1) * (theta)) * x.T\n",
    "    \n",
    "    y1 = np.multiply(y, np.log(sigmoid_function(param)))\n",
    "    y0 = np.multiply((1 - y), np.log(1 - sigmoid_function(param)))\n",
    "    \n",
    "    cost     = ((-1./m) * np.sum(y1 + y0))\n",
    "    gradient = gradient_function(theta, x, y)\n",
    "    \n",
    "    return cost, gradient"
   ]
  },
  {
   "cell_type": "code",
   "execution_count": 356,
   "metadata": {
    "collapsed": true
   },
   "outputs": [],
   "source": [
    "def predict(target, theta):\n",
    "    \n",
    "    m = target.shape[0]\n",
    "    p = np.zeros(m)\n",
    "    \n",
    "    param = ((-1) * (theta)) * target.T\n",
    "\n",
    "    h = sigmoid_function(param)\n",
    "\n",
    "    for i in range(h.shape[0]):\n",
    "        if h[i] > 0.5:\n",
    "            p[i] = 1\n",
    "        else:\n",
    "            p[i] = 0\n",
    "\n",
    "    return p"
   ]
  },
  {
   "cell_type": "code",
   "execution_count": 357,
   "metadata": {},
   "outputs": [
    {
     "name": "stdout",
     "output_type": "stream",
     "text": [
      "Output for the cost function is 0.69314718056\n",
      "First run of the gradient is [  -59.5        -4450.31322477 -4404.27312591]\n"
     ]
    }
   ],
   "source": [
    "' Insert ones on the data '\n",
    "data = np.insert(data, 0, np.ones(data.shape[0]), axis=1)\n",
    "\n",
    "' Slice arrays '\n",
    "x = data[:, :3]\n",
    "y = data[:, [3]]\n",
    "y = y[:, 0]\n",
    "\n",
    "theta = np.array([0., 0., 0.])\n",
    "\n",
    "(c,g) = cost_function(theta, x, y)\n",
    "\n",
    "print('Output for the cost function is ' + str(c))\n",
    "print('First run of the gradient is ' + str(g))"
   ]
  },
  {
   "cell_type": "code",
   "execution_count": 358,
   "metadata": {},
   "outputs": [
    {
     "name": "stdout",
     "output_type": "stream",
     "text": [
      "[ 1.  1.  1.]\n"
     ]
    }
   ],
   "source": [
    "p = predict(np.array([1., 45, 85]), g)\n",
    "print(p)"
   ]
  },
  {
   "cell_type": "code",
   "execution_count": null,
   "metadata": {},
   "outputs": [],
   "source": []
  },
  {
   "cell_type": "code",
   "execution_count": null,
   "metadata": {
    "collapsed": true
   },
   "outputs": [],
   "source": []
  }
 ],
 "metadata": {
  "kernelspec": {
   "display_name": "Python 3",
   "language": "python",
   "name": "python3"
  },
  "language_info": {
   "codemirror_mode": {
    "name": "ipython",
    "version": 3
   },
   "file_extension": ".py",
   "mimetype": "text/x-python",
   "name": "python",
   "nbconvert_exporter": "python",
   "pygments_lexer": "ipython3",
   "version": "3.6.1"
  }
 },
 "nbformat": 4,
 "nbformat_minor": 2
}
