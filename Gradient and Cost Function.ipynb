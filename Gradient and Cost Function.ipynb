{
 "cells": [
  {
   "cell_type": "code",
   "execution_count": 867,
   "metadata": {},
   "outputs": [],
   "source": [
    "import numpy as np\n",
    "data = np.genfromtxt('ex2data1.txt', delimiter=',')\n",
    "\n",
    "' Insert ones on the data '\n",
    "data = np.insert(data, 0, np.ones(data.shape[0]), axis=1)\n",
    "\n",
    "' Slice arrays '\n",
    "x = data[:, :3]\n",
    "y = data[:, [3]]\n",
    "y = y[:, 0]\n",
    "\n",
    "theta = np.array([0., 0., 0.])"
   ]
  },
  {
   "cell_type": "code",
   "execution_count": 868,
   "metadata": {
    "collapsed": true
   },
   "outputs": [],
   "source": [
    "' Converts a continuous input into a value between zero and one '\n",
    "def sigmoid_function(z):  \n",
    "    return 1. / (1 + np.exp(-z))"
   ]
  },
  {
   "cell_type": "code",
   "execution_count": 869,
   "metadata": {
    "collapsed": true
   },
   "outputs": [],
   "source": [
    "def cost_function(theta, x, y):  \n",
    "    \n",
    "    m = len(x)\n",
    "    \n",
    "    param = (x.dot(theta))\n",
    "    y1 = np.multiply(y, np.log(sigmoid_function(param)))\n",
    "    y0 = np.multiply((1 - y), np.log(1 - sigmoid_function(param)))\n",
    "    \n",
    "    cost     = ((-1./m) * np.sum(y1 + y0))\n",
    "    \n",
    "    return cost"
   ]
  },
  {
   "cell_type": "code",
   "execution_count": 870,
   "metadata": {},
   "outputs": [
    {
     "name": "stdout",
     "output_type": "stream",
     "text": [
      "0.69314718056\n"
     ]
    }
   ],
   "source": [
    "print(cost_function(theta, x, y))"
   ]
  },
  {
   "cell_type": "code",
   "execution_count": 871,
   "metadata": {},
   "outputs": [],
   "source": [
    "def gradient_descent(x, y, theta, alpha, tolerance):\n",
    "    m = y.size\n",
    "    episilon = 0.000000001\n",
    "    residual = np.ones(tolerance)\n",
    "    interact = 0\n",
    "    converge = False\n",
    "    \n",
    "    while not converge:\n",
    "        \n",
    "        ' Start adjusting theta values '\n",
    "        param = x.dot(theta)  \n",
    "        hypothesis = sigmoid_function(param)\n",
    "        error = hypothesis - y\n",
    "        gradient = error.T.dot(x)\n",
    "        \n",
    "        tmpTheta = theta\n",
    "        theta = theta - (alpha * gradient)\n",
    "        \n",
    "        step = abs(np.linalg.norm(theta) - np.linalg.norm(tmpTheta))\n",
    "        converge = (step<episilon)\n",
    "        \n",
    "        if (interact + 1) == tolerance:\n",
    "            converge = True\n",
    "            \n",
    "        interact = interact + 1\n",
    "        \n",
    "    return theta, residual, interact"
   ]
  },
  {
   "cell_type": "code",
   "execution_count": 872,
   "metadata": {},
   "outputs": [
    {
     "name": "stdout",
     "output_type": "stream",
     "text": [
      "Iteraction reached : 4000\n",
      "Theta : [-3.07177394  0.37644801 -0.09179581]\n"
     ]
    }
   ],
   "source": [
    "(t, r, i) = gradient_descent(x, y, theta, 0.0001, 4000)\n",
    "\n",
    "print('Iteraction reached : ' + str(i))\n",
    "print('Theta : ' + str(t))"
   ]
  },
  {
   "cell_type": "code",
   "execution_count": 873,
   "metadata": {
    "collapsed": true
   },
   "outputs": [],
   "source": [
    "def predict(target, theta):\n",
    "    \n",
    "    m = target.shape[0]\n",
    "    p = np.zeros(m)\n",
    "    \n",
    "    param = target.dot(theta)\n",
    "\n",
    "    h = sigmoid_function(param)\n",
    "\n",
    "    for i in range(h.shape[0]):\n",
    "        if h[i] > 0.5:\n",
    "            p[i] = 1\n",
    "        else:\n",
    "            p[i] = 0\n",
    "\n",
    "    return p"
   ]
  },
  {
   "cell_type": "code",
   "execution_count": 874,
   "metadata": {},
   "outputs": [
    {
     "name": "stdout",
     "output_type": "stream",
     "text": [
      "[ 1.]\n"
     ]
    }
   ],
   "source": [
    "p = predict(np.matrix([1., 45, 85]), t)\n",
    "print(p)"
   ]
  },
  {
   "cell_type": "code",
   "execution_count": 875,
   "metadata": {},
   "outputs": [
    {
     "name": "stdout",
     "output_type": "stream",
     "text": [
      "60.0\n"
     ]
    }
   ],
   "source": [
    "p = predict(x, t)  \n",
    "\n",
    "print((y[np.where(p == y)].size / float(y.size)) * 100.0)"
   ]
  },
  {
   "cell_type": "code",
   "execution_count": null,
   "metadata": {
    "collapsed": true
   },
   "outputs": [],
   "source": []
  }
 ],
 "metadata": {
  "kernelspec": {
   "display_name": "Python 3",
   "language": "python",
   "name": "python3"
  },
  "language_info": {
   "codemirror_mode": {
    "name": "ipython",
    "version": 3
   },
   "file_extension": ".py",
   "mimetype": "text/x-python",
   "name": "python",
   "nbconvert_exporter": "python",
   "pygments_lexer": "ipython3",
   "version": "3.6.1"
  }
 },
 "nbformat": 4,
 "nbformat_minor": 2
}
